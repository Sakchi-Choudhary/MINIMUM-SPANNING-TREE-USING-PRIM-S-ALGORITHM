{
  "nbformat": 4,
  "nbformat_minor": 0,
  "metadata": {
    "colab": {
      "name": "MINIMUM SPANNING TREE USING PRIM'S ALGORITHMpynb",
      "provenance": []
    },
    "kernelspec": {
      "name": "python3",
      "display_name": "Python 3"
    },
    "language_info": {
      "name": "python"
    }
  },
  "cells": [
    {
      "cell_type": "code",
      "metadata": {
        "colab": {
          "base_uri": "https://localhost:8080/"
        },
        "id": "6s9PjSntmYGV",
        "outputId": "4ba4d68a-b478-40f4-ef15-031f07eb74bb"
      },
      "source": [
        "INF = 999\n",
        "\n",
        "N = 5\n",
        "\n",
        "G = [[0, 19, 5, 0, 0],\n",
        "     [19, 0, 5, 9, 2],\n",
        "     [5, 5, 0, 1, 6],\n",
        "     [0, 9, 1, 0, 1],\n",
        "     [0, 2, 6, 1, 0]]\n",
        "\n",
        "selected_node = [0, 0, 0, 0, 0]\n",
        "\n",
        "no_edge = 0\n",
        "\n",
        "selected_node[0] = True\n",
        "\n",
        "\n",
        "print(\"Edge        :      Weight\\n\")\n",
        "while (no_edge < N - 1):\n",
        "    \n",
        "    minimum = INF\n",
        "    a = 0\n",
        "    b = 0\n",
        "    for m in range(N):\n",
        "        if selected_node[m]:\n",
        "            for n in range(N):\n",
        "                if ((not selected_node[n]) and G[m][n]):  \n",
        "                    \n",
        "                    if minimum > G[m][n]:\n",
        "                        minimum = G[m][n]\n",
        "                        a = m\n",
        "                        b = n\n",
        "    print(str(a) + \"  -  \" + str(b) + \"     :     \" + str(G[a][b]))\n",
        "    selected_node[b] = True\n",
        "    no_edge += 1"
      ],
      "execution_count": null,
      "outputs": [
        {
          "output_type": "stream",
          "name": "stdout",
          "text": [
            "Edge        :      Weight\n",
            "\n",
            "0  -  2     :     5\n",
            "2  -  3     :     1\n",
            "3  -  4     :     1\n",
            "4  -  1     :     2\n"
          ]
        }
      ]
    },
    {
      "cell_type": "code",
      "metadata": {
        "id": "8UOyd7p-mbLE"
      },
      "source": [
        ""
      ],
      "execution_count": null,
      "outputs": []
    }
  ]
}